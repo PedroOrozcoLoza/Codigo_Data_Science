{
 "cells": [
  {
   "cell_type": "markdown",
   "id": "5dc78a37",
   "metadata": {},
   "source": [
    "# Arboles de decisión"
   ]
  },
  {
   "cell_type": "markdown",
   "id": "c168935a",
   "metadata": {},
   "source": [
    "## Definir una serie de reglas secuenciales que permitan hacer predicciones\n",
    "### Método Cart: Pruebas Nominales, Ordinal, Numérico\n",
    "### Algoritmo de Hunt"
   ]
  },
  {
   "cell_type": "code",
   "execution_count": 3,
   "id": "727de408",
   "metadata": {},
   "outputs": [],
   "source": [
    "import pandas as pd\n",
    "from sklearn.tree import DecisionTreeClassifier\n",
    "from sklearn.model_selection import train_test_split\n",
    "from sklearn import metrics\n",
    "import matplotlib.pyplot as plt\n",
    "import warnings\n",
    "warnings.filterwarnings(\"ignore\")"
   ]
  },
  {
   "cell_type": "markdown",
   "id": "6d557857",
   "metadata": {},
   "source": [
    "## Ejemplo 1"
   ]
  },
  {
   "cell_type": "code",
   "execution_count": 4,
   "id": "a70e865e",
   "metadata": {},
   "outputs": [
    {
     "data": {
      "text/html": [
       "<div>\n",
       "<style scoped>\n",
       "    .dataframe tbody tr th:only-of-type {\n",
       "        vertical-align: middle;\n",
       "    }\n",
       "\n",
       "    .dataframe tbody tr th {\n",
       "        vertical-align: top;\n",
       "    }\n",
       "\n",
       "    .dataframe thead th {\n",
       "        text-align: right;\n",
       "    }\n",
       "</style>\n",
       "<table border=\"1\" class=\"dataframe\">\n",
       "  <thead>\n",
       "    <tr style=\"text-align: right;\">\n",
       "      <th></th>\n",
       "      <th>ID</th>\n",
       "      <th>Reembolso</th>\n",
       "      <th>EdoCivil</th>\n",
       "      <th>Ingresos</th>\n",
       "      <th>Fraude</th>\n",
       "    </tr>\n",
       "  </thead>\n",
       "  <tbody>\n",
       "    <tr>\n",
       "      <th>0</th>\n",
       "      <td>1</td>\n",
       "      <td>Sí</td>\n",
       "      <td>Soltero</td>\n",
       "      <td>125000</td>\n",
       "      <td>No</td>\n",
       "    </tr>\n",
       "    <tr>\n",
       "      <th>1</th>\n",
       "      <td>2</td>\n",
       "      <td>No</td>\n",
       "      <td>Casado</td>\n",
       "      <td>100000</td>\n",
       "      <td>No</td>\n",
       "    </tr>\n",
       "    <tr>\n",
       "      <th>2</th>\n",
       "      <td>3</td>\n",
       "      <td>No</td>\n",
       "      <td>Soltero</td>\n",
       "      <td>70000</td>\n",
       "      <td>No</td>\n",
       "    </tr>\n",
       "    <tr>\n",
       "      <th>3</th>\n",
       "      <td>4</td>\n",
       "      <td>Sí</td>\n",
       "      <td>Casado</td>\n",
       "      <td>120000</td>\n",
       "      <td>No</td>\n",
       "    </tr>\n",
       "    <tr>\n",
       "      <th>4</th>\n",
       "      <td>5</td>\n",
       "      <td>No</td>\n",
       "      <td>Divorciado</td>\n",
       "      <td>95000</td>\n",
       "      <td>Sí</td>\n",
       "    </tr>\n",
       "    <tr>\n",
       "      <th>5</th>\n",
       "      <td>6</td>\n",
       "      <td>No</td>\n",
       "      <td>Casado</td>\n",
       "      <td>60000</td>\n",
       "      <td>No</td>\n",
       "    </tr>\n",
       "    <tr>\n",
       "      <th>6</th>\n",
       "      <td>7</td>\n",
       "      <td>Sí</td>\n",
       "      <td>Divorciado</td>\n",
       "      <td>220000</td>\n",
       "      <td>No</td>\n",
       "    </tr>\n",
       "    <tr>\n",
       "      <th>7</th>\n",
       "      <td>8</td>\n",
       "      <td>No</td>\n",
       "      <td>Soltero</td>\n",
       "      <td>85000</td>\n",
       "      <td>Sí</td>\n",
       "    </tr>\n",
       "    <tr>\n",
       "      <th>8</th>\n",
       "      <td>9</td>\n",
       "      <td>No</td>\n",
       "      <td>Casado</td>\n",
       "      <td>75000</td>\n",
       "      <td>No</td>\n",
       "    </tr>\n",
       "    <tr>\n",
       "      <th>9</th>\n",
       "      <td>10</td>\n",
       "      <td>No</td>\n",
       "      <td>Soltero</td>\n",
       "      <td>90000</td>\n",
       "      <td>Sí</td>\n",
       "    </tr>\n",
       "  </tbody>\n",
       "</table>\n",
       "</div>"
      ],
      "text/plain": [
       "   ID Reembolso    EdoCivil  Ingresos Fraude\n",
       "0   1        Sí     Soltero    125000     No\n",
       "1   2        No      Casado    100000     No\n",
       "2   3        No     Soltero     70000     No\n",
       "3   4        Sí      Casado    120000     No\n",
       "4   5        No  Divorciado     95000     Sí\n",
       "5   6        No      Casado     60000     No\n",
       "6   7        Sí  Divorciado    220000     No\n",
       "7   8        No     Soltero     85000     Sí\n",
       "8   9        No      Casado     75000     No\n",
       "9  10        No     Soltero     90000     Sí"
      ]
     },
     "execution_count": 4,
     "metadata": {},
     "output_type": "execute_result"
    }
   ],
   "source": [
    "fraude = pd.read_csv(\"Fraude.csv\")\n",
    "fraude"
   ]
  },
  {
   "cell_type": "code",
   "execution_count": 5,
   "id": "21d3fb53",
   "metadata": {},
   "outputs": [],
   "source": [
    "feature_cols = [\"Reembolso\", \"EdoCivil\", \"Ingresos\"]\n",
    "x = fraude[feature_cols].values\n",
    "y = fraude.Fraude"
   ]
  },
  {
   "cell_type": "code",
   "execution_count": 6,
   "id": "2b25d917",
   "metadata": {},
   "outputs": [],
   "source": [
    "# Etiquetado de variables cualitativas\n",
    "from sklearn import preprocessing\n",
    "\n",
    "Cod_Reem = preprocessing.LabelEncoder()\n",
    "Cod_Reem.fit([\"Sí\", \"No\"])\n",
    "x[:,0] = Cod_Reem.transform(x[:,0])\n",
    "\n",
    "Cod_EdoC = preprocessing.LabelEncoder()\n",
    "Cod_EdoC.fit([\"Soltero\", \"Casado\", \"Divorciado\"]) ## Soltero = 2, Casado = 0, Divorciado = 1\n",
    "x[:,1] = Cod_EdoC.transform(x[:,1])"
   ]
  },
  {
   "cell_type": "code",
   "execution_count": 8,
   "id": "259d8cec",
   "metadata": {},
   "outputs": [],
   "source": [
    "## Creación de grupos de entrenamiento y prueba\n",
    "x_train,x_test, y_train, y_test = train_test_split(x,y, test_size=0.3, random_state=1)\n",
    "\n",
    "## Crear objeto de clasificación del árbol de decisión\n",
    "clf = DecisionTreeClassifier()\n",
    "clf = clf.fit(x_train, y_train)\n",
    "\n",
    "# Predicción de la respuesta para el grupo de prueba\n",
    "y_pred = clf.predict(x_test)\n"
   ]
  },
  {
   "cell_type": "code",
   "execution_count": 10,
   "id": "80276b83",
   "metadata": {},
   "outputs": [
    {
     "name": "stdout",
     "output_type": "stream",
     "text": [
      "2    No\n",
      "9    Sí\n",
      "6    No\n",
      "Name: Fraude, dtype: object\n",
      "['Sí' 'Sí' 'No']\n"
     ]
    }
   ],
   "source": [
    "# Comparación de predicción con y real\n",
    "print(y_test)\n",
    "print(y_pred)"
   ]
  },
  {
   "cell_type": "code",
   "execution_count": 11,
   "id": "d19b6f89",
   "metadata": {},
   "outputs": [
    {
     "data": {
      "text/plain": [
       "array([[1, 1],\n",
       "       [0, 1]], dtype=int64)"
      ]
     },
     "execution_count": 11,
     "metadata": {},
     "output_type": "execute_result"
    }
   ],
   "source": [
    "# Matriz de confusión\n",
    "from sklearn.metrics import confusion_matrix\n",
    "\n",
    "cm = confusion_matrix(y_test, y_pred)\n",
    "cm"
   ]
  },
  {
   "cell_type": "code",
   "execution_count": 12,
   "id": "039d0364",
   "metadata": {},
   "outputs": [
    {
     "name": "stdout",
     "output_type": "stream",
     "text": [
      "              precision    recall  f1-score   support\n",
      "\n",
      "          No       1.00      0.50      0.67         2\n",
      "          Sí       0.50      1.00      0.67         1\n",
      "\n",
      "    accuracy                           0.67         3\n",
      "   macro avg       0.75      0.75      0.67         3\n",
      "weighted avg       0.83      0.67      0.67         3\n",
      "\n"
     ]
    }
   ],
   "source": [
    "# Estadísticas de desempeño\n",
    "from sklearn.metrics import classification_report\n",
    "\n",
    "print(classification_report(y_test, y_pred))"
   ]
  },
  {
   "cell_type": "code",
   "execution_count": 14,
   "id": "accf79b8",
   "metadata": {},
   "outputs": [
    {
     "name": "stdout",
     "output_type": "stream",
     "text": [
      "Requirement already satisfied: graphviz in c:\\users\\usuario\\anaconda3\\lib\\site-packages (0.20.1)\n",
      "Requirement already satisfied: pydotplus in c:\\users\\usuario\\anaconda3\\lib\\site-packages (2.0.2)\n",
      "Requirement already satisfied: pyparsing>=2.0.1 in c:\\users\\usuario\\anaconda3\\lib\\site-packages (from pydotplus) (3.0.9)\n"
     ]
    }
   ],
   "source": [
    "# Graficación de las reglas del árbol de decisión\n",
    "## Bibliotecas necesarias\n",
    "!pip install graphviz\n",
    "!pip install pydotplus\n",
    "\n",
    "from sklearn import tree\n",
    "import graphviz\n",
    "import pydotplus\n",
    "\n",
    "from PIL import Image"
   ]
  },
  {
   "cell_type": "code",
   "execution_count": 17,
   "id": "1ef6da32",
   "metadata": {},
   "outputs": [],
   "source": [
    "# Creación de información para el árbol\n",
    "dot_data = tree.export_graphviz(clf, out_file=None, feature_names=feature_cols, class_names = [\"No fraude\", \"Fraude\"])\n",
    "\n",
    "# Creación de la gráfica del arbol\n",
    "graph = pydotplus.graph_from_dot_data(dot_data)\n",
    "\n",
    "# Creación del arbol PDF\n",
    "graph.write_pdf(\"fraudes.pdf\")\n",
    "# Creación del arbol PNG\n",
    "graph.write_png(\"fraudes.png\")\n",
    "\n",
    "image = Image.open(\"fraudes.png\")\n",
    "image.show()"
   ]
  },
  {
   "cell_type": "markdown",
   "id": "9ba99115",
   "metadata": {},
   "source": [
    "## Ejemplo 2"
   ]
  },
  {
   "cell_type": "code",
   "execution_count": 20,
   "id": "46954f4b",
   "metadata": {},
   "outputs": [
    {
     "data": {
      "text/html": [
       "<div>\n",
       "<style scoped>\n",
       "    .dataframe tbody tr th:only-of-type {\n",
       "        vertical-align: middle;\n",
       "    }\n",
       "\n",
       "    .dataframe tbody tr th {\n",
       "        vertical-align: top;\n",
       "    }\n",
       "\n",
       "    .dataframe thead th {\n",
       "        text-align: right;\n",
       "    }\n",
       "</style>\n",
       "<table border=\"1\" class=\"dataframe\">\n",
       "  <thead>\n",
       "    <tr style=\"text-align: right;\">\n",
       "      <th></th>\n",
       "      <th>pregnant</th>\n",
       "      <th>glucose</th>\n",
       "      <th>bp</th>\n",
       "      <th>skin</th>\n",
       "      <th>insulin</th>\n",
       "      <th>bmi</th>\n",
       "      <th>pedigree</th>\n",
       "      <th>age</th>\n",
       "      <th>label</th>\n",
       "    </tr>\n",
       "  </thead>\n",
       "  <tbody>\n",
       "    <tr>\n",
       "      <th>1</th>\n",
       "      <td>6</td>\n",
       "      <td>148</td>\n",
       "      <td>72</td>\n",
       "      <td>35</td>\n",
       "      <td>0</td>\n",
       "      <td>33.6</td>\n",
       "      <td>0.627</td>\n",
       "      <td>50</td>\n",
       "      <td>1</td>\n",
       "    </tr>\n",
       "    <tr>\n",
       "      <th>2</th>\n",
       "      <td>1</td>\n",
       "      <td>85</td>\n",
       "      <td>66</td>\n",
       "      <td>29</td>\n",
       "      <td>0</td>\n",
       "      <td>26.6</td>\n",
       "      <td>0.351</td>\n",
       "      <td>31</td>\n",
       "      <td>0</td>\n",
       "    </tr>\n",
       "    <tr>\n",
       "      <th>3</th>\n",
       "      <td>8</td>\n",
       "      <td>183</td>\n",
       "      <td>64</td>\n",
       "      <td>0</td>\n",
       "      <td>0</td>\n",
       "      <td>23.3</td>\n",
       "      <td>0.672</td>\n",
       "      <td>32</td>\n",
       "      <td>1</td>\n",
       "    </tr>\n",
       "    <tr>\n",
       "      <th>4</th>\n",
       "      <td>1</td>\n",
       "      <td>89</td>\n",
       "      <td>66</td>\n",
       "      <td>23</td>\n",
       "      <td>94</td>\n",
       "      <td>28.1</td>\n",
       "      <td>0.167</td>\n",
       "      <td>21</td>\n",
       "      <td>0</td>\n",
       "    </tr>\n",
       "    <tr>\n",
       "      <th>5</th>\n",
       "      <td>0</td>\n",
       "      <td>137</td>\n",
       "      <td>40</td>\n",
       "      <td>35</td>\n",
       "      <td>168</td>\n",
       "      <td>43.1</td>\n",
       "      <td>2.288</td>\n",
       "      <td>33</td>\n",
       "      <td>1</td>\n",
       "    </tr>\n",
       "  </tbody>\n",
       "</table>\n",
       "</div>"
      ],
      "text/plain": [
       "  pregnant glucose  bp skin insulin   bmi pedigree age label\n",
       "1        6     148  72   35       0  33.6    0.627  50     1\n",
       "2        1      85  66   29       0  26.6    0.351  31     0\n",
       "3        8     183  64    0       0  23.3    0.672  32     1\n",
       "4        1      89  66   23      94  28.1    0.167  21     0\n",
       "5        0     137  40   35     168  43.1    2.288  33     1"
      ]
     },
     "execution_count": 20,
     "metadata": {},
     "output_type": "execute_result"
    }
   ],
   "source": [
    "col_names = [\"pregnant\",\"glucose\", \"bp\", \"skin\", \"insulin\", \"bmi\", \"pedigree\", \"age\", \"label\"]\n",
    "diabetes = pd.read_csv(\"diabetes.csv\", header = None, names = col_names)\n",
    "diabetes = diabetes.iloc[1:, :]\n",
    "diabetes.head()"
   ]
  },
  {
   "cell_type": "code",
   "execution_count": 21,
   "id": "fe556026",
   "metadata": {},
   "outputs": [],
   "source": [
    "## Selección de las características\n",
    "feature_cols = [\"pregnant\",\"insulin\", \"bmi\",\"age\", \"glucose\", \"bp\", \"pedigree\"]\n",
    "x = diabetes[feature_cols]\n",
    "y = diabetes.label"
   ]
  },
  {
   "cell_type": "code",
   "execution_count": 28,
   "id": "e1b3b59b",
   "metadata": {
    "scrolled": true
   },
   "outputs": [
    {
     "name": "stdout",
     "output_type": "stream",
     "text": [
      "[[79 20]\n",
      " [25 30]]\n",
      "-------------------------------------------------------------\n",
      "              precision    recall  f1-score   support\n",
      "\n",
      "           0       0.76      0.80      0.78        99\n",
      "           1       0.60      0.55      0.57        55\n",
      "\n",
      "    accuracy                           0.71       154\n",
      "   macro avg       0.68      0.67      0.67       154\n",
      "weighted avg       0.70      0.71      0.70       154\n",
      "\n"
     ]
    }
   ],
   "source": [
    "## Selección de grupos de entrenamiento y prueba\n",
    "x_train,x_test, y_train, y_test = train_test_split(x,y, test_size=0.2, random_state=1)\n",
    "\n",
    "## Crear objeto de clasificación del árbol de decisión\n",
    "clfG = DecisionTreeClassifier(criterion = \"gini\") ## Criterio Gini/Entropia\n",
    "clfG = clfG.fit(x_train, y_train)\n",
    "\n",
    "# Predicción de la respuesta para el grupo de prueba\n",
    "y_predG = clfG.predict(x_test)\n",
    "\n",
    "# Matriz de confusión\n",
    "cmG = confusion_matrix(y_test, y_predG)\n",
    "print(cmG)\n",
    "print(\"-------------------------------------------------------------\")\n",
    "# Estadísticas de desempeño\n",
    "from sklearn.metrics import classification_report\n",
    "\n",
    "print(classification_report(y_test, y_predG))"
   ]
  },
  {
   "cell_type": "code",
   "execution_count": 25,
   "id": "bb9916d6",
   "metadata": {},
   "outputs": [],
   "source": [
    "# Creación de información para el árbol\n",
    "dot_dataG = tree.export_graphviz(clfG, out_file=None, feature_names=feature_cols, class_names = [\"Normal\", \"Diabetes\"])\n",
    "\n",
    "# Creación de la gráfica del arbol\n",
    "graphG = pydotplus.graph_from_dot_data(dot_dataG)\n",
    "\n",
    "# Creación del arbol PDF\n",
    "graphG.write_pdf(\"diabetes.pdf\")\n",
    "# Creación del arbol PNG\n",
    "graphG.write_png(\"diabetes.png\")\n",
    "\n",
    "image = Image.open(\"diabetes.png\")\n",
    "image.show()"
   ]
  },
  {
   "cell_type": "markdown",
   "id": "2e118287",
   "metadata": {},
   "source": [
    "## Optimización del desempeño del árbol de decisión\n"
   ]
  },
  {
   "cell_type": "code",
   "execution_count": 29,
   "id": "17b4ed15",
   "metadata": {},
   "outputs": [
    {
     "name": "stdout",
     "output_type": "stream",
     "text": [
      "[[88 11]\n",
      " [20 35]]\n",
      "-------------------------------------------------------------\n",
      "              precision    recall  f1-score   support\n",
      "\n",
      "           0       0.81      0.89      0.85        99\n",
      "           1       0.76      0.64      0.69        55\n",
      "\n",
      "    accuracy                           0.80       154\n",
      "   macro avg       0.79      0.76      0.77       154\n",
      "weighted avg       0.80      0.80      0.79       154\n",
      "\n"
     ]
    }
   ],
   "source": [
    "## Crear objeto de clasificación del árbol de decisión\n",
    "clfE = DecisionTreeClassifier(criterion = \"entropy\", max_depth = 3) ## Criterio Gini/Entropia\n",
    "clfE = clfE.fit(x_train, y_train)\n",
    "\n",
    "# Predicción de la respuesta para el grupo de prueba\n",
    "y_predE = clfE.predict(x_test)\n",
    "\n",
    "# Matriz de confusión\n",
    "cmE = confusion_matrix(y_test, y_predE)\n",
    "print(cmE)\n",
    "print(\"-------------------------------------------------------------\")\n",
    "# Estadísticas de desempeño\n",
    "from sklearn.metrics import classification_report\n",
    "\n",
    "print(classification_report(y_test, y_predE))"
   ]
  },
  {
   "cell_type": "code",
   "execution_count": 30,
   "id": "8dd00f54",
   "metadata": {},
   "outputs": [],
   "source": [
    "# Creación de información para el árbol\n",
    "dot_dataE = tree.export_graphviz(clfE, out_file=None, feature_names=feature_cols, class_names = [\"Normal\", \"Diabetes\"])\n",
    "\n",
    "# Creación de la gráfica del arbol\n",
    "graphE = pydotplus.graph_from_dot_data(dot_dataE)\n",
    "\n",
    "# Creación del arbol PDF\n",
    "graphE.write_pdf(\"diabetes2.pdf\")\n",
    "# Creación del arbol PNG\n",
    "graphE.write_png(\"diabetes2.png\")\n",
    "\n",
    "image = Image.open(\"diabetes2.png\")\n",
    "image.show()"
   ]
  },
  {
   "cell_type": "code",
   "execution_count": 32,
   "id": "371a489f",
   "metadata": {},
   "outputs": [],
   "source": [
    "# Adición de colores al árbol de decisiones\n",
    "from six import StringIO\n",
    "from IPython.display import Image\n",
    "from sklearn.tree import export_graphviz\n",
    "\n",
    "dot_dataE = StringIO()\n",
    "export_graphviz(clfE, out_file = dot_dataE, filled = True, rounded = True, special_characters = True,\n",
    "                feature_names = feature_cols, class_names = [\"Normal\", \"Diabetes\"])\n",
    "\n",
    "graphEc = pydotplus.graph_from_dot_data(dot_dataE.getvalue())"
   ]
  },
  {
   "cell_type": "code",
   "execution_count": 34,
   "id": "a4849f94",
   "metadata": {},
   "outputs": [],
   "source": [
    "# Creación del arbol PNG\n",
    "from PIL import Image\n",
    "graphEc.write_png(\"diabetes3.png\")\n",
    "\n",
    "image = Image.open(\"diabetes3.png\")\n",
    "image.show()"
   ]
  },
  {
   "cell_type": "code",
   "execution_count": null,
   "id": "63e84a91",
   "metadata": {},
   "outputs": [],
   "source": []
  }
 ],
 "metadata": {
  "kernelspec": {
   "display_name": "Python 3 (ipykernel)",
   "language": "python",
   "name": "python3"
  },
  "language_info": {
   "codemirror_mode": {
    "name": "ipython",
    "version": 3
   },
   "file_extension": ".py",
   "mimetype": "text/x-python",
   "name": "python",
   "nbconvert_exporter": "python",
   "pygments_lexer": "ipython3",
   "version": "3.11.3"
  }
 },
 "nbformat": 4,
 "nbformat_minor": 5
}
