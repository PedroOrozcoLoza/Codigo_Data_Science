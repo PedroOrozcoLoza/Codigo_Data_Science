{
 "cells": [
  {
   "cell_type": "markdown",
   "id": "a2a3b957",
   "metadata": {},
   "source": [
    "# Actividad 4-4 Maquinas de Soporte Vectorial"
   ]
  },
  {
   "cell_type": "code",
   "execution_count": 1,
   "id": "edc4d148",
   "metadata": {},
   "outputs": [],
   "source": [
    "import pandas as pd\n",
    "import numpy as np\n",
    "import matplotlib.pyplot as plt\n",
    "import pylab as pl\n",
    "import scipy.optimize as opt\n",
    "from sklearn import preprocessing\n",
    "from sklearn.model_selection import train_test_split\n",
    "import warnings\n",
    "warnings.filterwarnings(\"ignore\")"
   ]
  },
  {
   "cell_type": "markdown",
   "id": "09822dff",
   "metadata": {},
   "source": [
    "## 1. Recodificación de variables categóricas"
   ]
  },
  {
   "cell_type": "code",
   "execution_count": 2,
   "id": "5da903d3",
   "metadata": {},
   "outputs": [
    {
     "data": {
      "text/html": [
       "<div>\n",
       "<style scoped>\n",
       "    .dataframe tbody tr th:only-of-type {\n",
       "        vertical-align: middle;\n",
       "    }\n",
       "\n",
       "    .dataframe tbody tr th {\n",
       "        vertical-align: top;\n",
       "    }\n",
       "\n",
       "    .dataframe thead th {\n",
       "        text-align: right;\n",
       "    }\n",
       "</style>\n",
       "<table border=\"1\" class=\"dataframe\">\n",
       "  <thead>\n",
       "    <tr style=\"text-align: right;\">\n",
       "      <th></th>\n",
       "      <th>left</th>\n",
       "      <th>satisfaction_level</th>\n",
       "      <th>last_evaluation</th>\n",
       "      <th>average_montly_hours</th>\n",
       "      <th>time_spend_company</th>\n",
       "      <th>Work_accident</th>\n",
       "      <th>promotion_last_5years</th>\n",
       "      <th>IT</th>\n",
       "      <th>RandD</th>\n",
       "      <th>accounting</th>\n",
       "      <th>hr</th>\n",
       "      <th>management</th>\n",
       "      <th>marketing</th>\n",
       "      <th>product_mng</th>\n",
       "      <th>sales</th>\n",
       "      <th>support</th>\n",
       "      <th>technical</th>\n",
       "      <th>high</th>\n",
       "      <th>low</th>\n",
       "      <th>medium</th>\n",
       "    </tr>\n",
       "  </thead>\n",
       "  <tbody>\n",
       "    <tr>\n",
       "      <th>0</th>\n",
       "      <td>1</td>\n",
       "      <td>0.38</td>\n",
       "      <td>0.53</td>\n",
       "      <td>157</td>\n",
       "      <td>3</td>\n",
       "      <td>0</td>\n",
       "      <td>0</td>\n",
       "      <td>0</td>\n",
       "      <td>0</td>\n",
       "      <td>0</td>\n",
       "      <td>0</td>\n",
       "      <td>0</td>\n",
       "      <td>0</td>\n",
       "      <td>0</td>\n",
       "      <td>1</td>\n",
       "      <td>0</td>\n",
       "      <td>0</td>\n",
       "      <td>0</td>\n",
       "      <td>1</td>\n",
       "      <td>0</td>\n",
       "    </tr>\n",
       "    <tr>\n",
       "      <th>1</th>\n",
       "      <td>1</td>\n",
       "      <td>0.80</td>\n",
       "      <td>0.86</td>\n",
       "      <td>262</td>\n",
       "      <td>6</td>\n",
       "      <td>0</td>\n",
       "      <td>0</td>\n",
       "      <td>0</td>\n",
       "      <td>0</td>\n",
       "      <td>0</td>\n",
       "      <td>0</td>\n",
       "      <td>0</td>\n",
       "      <td>0</td>\n",
       "      <td>0</td>\n",
       "      <td>1</td>\n",
       "      <td>0</td>\n",
       "      <td>0</td>\n",
       "      <td>0</td>\n",
       "      <td>0</td>\n",
       "      <td>1</td>\n",
       "    </tr>\n",
       "    <tr>\n",
       "      <th>2</th>\n",
       "      <td>1</td>\n",
       "      <td>0.11</td>\n",
       "      <td>0.88</td>\n",
       "      <td>272</td>\n",
       "      <td>4</td>\n",
       "      <td>0</td>\n",
       "      <td>0</td>\n",
       "      <td>0</td>\n",
       "      <td>0</td>\n",
       "      <td>0</td>\n",
       "      <td>0</td>\n",
       "      <td>0</td>\n",
       "      <td>0</td>\n",
       "      <td>0</td>\n",
       "      <td>1</td>\n",
       "      <td>0</td>\n",
       "      <td>0</td>\n",
       "      <td>0</td>\n",
       "      <td>0</td>\n",
       "      <td>1</td>\n",
       "    </tr>\n",
       "    <tr>\n",
       "      <th>3</th>\n",
       "      <td>1</td>\n",
       "      <td>0.72</td>\n",
       "      <td>0.87</td>\n",
       "      <td>223</td>\n",
       "      <td>5</td>\n",
       "      <td>0</td>\n",
       "      <td>0</td>\n",
       "      <td>0</td>\n",
       "      <td>0</td>\n",
       "      <td>0</td>\n",
       "      <td>0</td>\n",
       "      <td>0</td>\n",
       "      <td>0</td>\n",
       "      <td>0</td>\n",
       "      <td>1</td>\n",
       "      <td>0</td>\n",
       "      <td>0</td>\n",
       "      <td>0</td>\n",
       "      <td>1</td>\n",
       "      <td>0</td>\n",
       "    </tr>\n",
       "    <tr>\n",
       "      <th>4</th>\n",
       "      <td>1</td>\n",
       "      <td>0.37</td>\n",
       "      <td>0.52</td>\n",
       "      <td>159</td>\n",
       "      <td>3</td>\n",
       "      <td>0</td>\n",
       "      <td>0</td>\n",
       "      <td>0</td>\n",
       "      <td>0</td>\n",
       "      <td>0</td>\n",
       "      <td>0</td>\n",
       "      <td>0</td>\n",
       "      <td>0</td>\n",
       "      <td>0</td>\n",
       "      <td>1</td>\n",
       "      <td>0</td>\n",
       "      <td>0</td>\n",
       "      <td>0</td>\n",
       "      <td>1</td>\n",
       "      <td>0</td>\n",
       "    </tr>\n",
       "    <tr>\n",
       "      <th>...</th>\n",
       "      <td>...</td>\n",
       "      <td>...</td>\n",
       "      <td>...</td>\n",
       "      <td>...</td>\n",
       "      <td>...</td>\n",
       "      <td>...</td>\n",
       "      <td>...</td>\n",
       "      <td>...</td>\n",
       "      <td>...</td>\n",
       "      <td>...</td>\n",
       "      <td>...</td>\n",
       "      <td>...</td>\n",
       "      <td>...</td>\n",
       "      <td>...</td>\n",
       "      <td>...</td>\n",
       "      <td>...</td>\n",
       "      <td>...</td>\n",
       "      <td>...</td>\n",
       "      <td>...</td>\n",
       "      <td>...</td>\n",
       "    </tr>\n",
       "    <tr>\n",
       "      <th>14994</th>\n",
       "      <td>1</td>\n",
       "      <td>0.40</td>\n",
       "      <td>0.57</td>\n",
       "      <td>151</td>\n",
       "      <td>3</td>\n",
       "      <td>0</td>\n",
       "      <td>0</td>\n",
       "      <td>0</td>\n",
       "      <td>0</td>\n",
       "      <td>0</td>\n",
       "      <td>0</td>\n",
       "      <td>0</td>\n",
       "      <td>0</td>\n",
       "      <td>0</td>\n",
       "      <td>0</td>\n",
       "      <td>1</td>\n",
       "      <td>0</td>\n",
       "      <td>0</td>\n",
       "      <td>1</td>\n",
       "      <td>0</td>\n",
       "    </tr>\n",
       "    <tr>\n",
       "      <th>14995</th>\n",
       "      <td>1</td>\n",
       "      <td>0.37</td>\n",
       "      <td>0.48</td>\n",
       "      <td>160</td>\n",
       "      <td>3</td>\n",
       "      <td>0</td>\n",
       "      <td>0</td>\n",
       "      <td>0</td>\n",
       "      <td>0</td>\n",
       "      <td>0</td>\n",
       "      <td>0</td>\n",
       "      <td>0</td>\n",
       "      <td>0</td>\n",
       "      <td>0</td>\n",
       "      <td>0</td>\n",
       "      <td>1</td>\n",
       "      <td>0</td>\n",
       "      <td>0</td>\n",
       "      <td>1</td>\n",
       "      <td>0</td>\n",
       "    </tr>\n",
       "    <tr>\n",
       "      <th>14996</th>\n",
       "      <td>1</td>\n",
       "      <td>0.37</td>\n",
       "      <td>0.53</td>\n",
       "      <td>143</td>\n",
       "      <td>3</td>\n",
       "      <td>0</td>\n",
       "      <td>0</td>\n",
       "      <td>0</td>\n",
       "      <td>0</td>\n",
       "      <td>0</td>\n",
       "      <td>0</td>\n",
       "      <td>0</td>\n",
       "      <td>0</td>\n",
       "      <td>0</td>\n",
       "      <td>0</td>\n",
       "      <td>1</td>\n",
       "      <td>0</td>\n",
       "      <td>0</td>\n",
       "      <td>1</td>\n",
       "      <td>0</td>\n",
       "    </tr>\n",
       "    <tr>\n",
       "      <th>14997</th>\n",
       "      <td>1</td>\n",
       "      <td>0.11</td>\n",
       "      <td>0.96</td>\n",
       "      <td>280</td>\n",
       "      <td>4</td>\n",
       "      <td>0</td>\n",
       "      <td>0</td>\n",
       "      <td>0</td>\n",
       "      <td>0</td>\n",
       "      <td>0</td>\n",
       "      <td>0</td>\n",
       "      <td>0</td>\n",
       "      <td>0</td>\n",
       "      <td>0</td>\n",
       "      <td>0</td>\n",
       "      <td>1</td>\n",
       "      <td>0</td>\n",
       "      <td>0</td>\n",
       "      <td>1</td>\n",
       "      <td>0</td>\n",
       "    </tr>\n",
       "    <tr>\n",
       "      <th>14998</th>\n",
       "      <td>1</td>\n",
       "      <td>0.37</td>\n",
       "      <td>0.52</td>\n",
       "      <td>158</td>\n",
       "      <td>3</td>\n",
       "      <td>0</td>\n",
       "      <td>0</td>\n",
       "      <td>0</td>\n",
       "      <td>0</td>\n",
       "      <td>0</td>\n",
       "      <td>0</td>\n",
       "      <td>0</td>\n",
       "      <td>0</td>\n",
       "      <td>0</td>\n",
       "      <td>0</td>\n",
       "      <td>1</td>\n",
       "      <td>0</td>\n",
       "      <td>0</td>\n",
       "      <td>1</td>\n",
       "      <td>0</td>\n",
       "    </tr>\n",
       "  </tbody>\n",
       "</table>\n",
       "<p>14999 rows × 20 columns</p>\n",
       "</div>"
      ],
      "text/plain": [
       "       left  satisfaction_level  last_evaluation  average_montly_hours  \\\n",
       "0         1                0.38             0.53                   157   \n",
       "1         1                0.80             0.86                   262   \n",
       "2         1                0.11             0.88                   272   \n",
       "3         1                0.72             0.87                   223   \n",
       "4         1                0.37             0.52                   159   \n",
       "...     ...                 ...              ...                   ...   \n",
       "14994     1                0.40             0.57                   151   \n",
       "14995     1                0.37             0.48                   160   \n",
       "14996     1                0.37             0.53                   143   \n",
       "14997     1                0.11             0.96                   280   \n",
       "14998     1                0.37             0.52                   158   \n",
       "\n",
       "       time_spend_company  Work_accident  promotion_last_5years  IT  RandD  \\\n",
       "0                       3              0                      0   0      0   \n",
       "1                       6              0                      0   0      0   \n",
       "2                       4              0                      0   0      0   \n",
       "3                       5              0                      0   0      0   \n",
       "4                       3              0                      0   0      0   \n",
       "...                   ...            ...                    ...  ..    ...   \n",
       "14994                   3              0                      0   0      0   \n",
       "14995                   3              0                      0   0      0   \n",
       "14996                   3              0                      0   0      0   \n",
       "14997                   4              0                      0   0      0   \n",
       "14998                   3              0                      0   0      0   \n",
       "\n",
       "       accounting  hr  management  marketing  product_mng  sales  support  \\\n",
       "0               0   0           0          0            0      1        0   \n",
       "1               0   0           0          0            0      1        0   \n",
       "2               0   0           0          0            0      1        0   \n",
       "3               0   0           0          0            0      1        0   \n",
       "4               0   0           0          0            0      1        0   \n",
       "...           ...  ..         ...        ...          ...    ...      ...   \n",
       "14994           0   0           0          0            0      0        1   \n",
       "14995           0   0           0          0            0      0        1   \n",
       "14996           0   0           0          0            0      0        1   \n",
       "14997           0   0           0          0            0      0        1   \n",
       "14998           0   0           0          0            0      0        1   \n",
       "\n",
       "       technical  high  low  medium  \n",
       "0              0     0    1       0  \n",
       "1              0     0    0       1  \n",
       "2              0     0    0       1  \n",
       "3              0     0    1       0  \n",
       "4              0     0    1       0  \n",
       "...          ...   ...  ...     ...  \n",
       "14994          0     0    1       0  \n",
       "14995          0     0    1       0  \n",
       "14996          0     0    1       0  \n",
       "14997          0     0    1       0  \n",
       "14998          0     0    1       0  \n",
       "\n",
       "[14999 rows x 20 columns]"
      ]
     },
     "execution_count": 2,
     "metadata": {},
     "output_type": "execute_result"
    }
   ],
   "source": [
    "Df_RH = pd.read_csv(\"recursos_humanos.csv\")\n",
    "\n",
    "# Recodificación\n",
    "Dumm_sales = pd.get_dummies(Df_RH.sales)\n",
    "Dumm_salary = pd.get_dummies(Df_RH.salary)\n",
    "\n",
    "## Integración del DataFrame\n",
    "Df_RHv1 = Df_RH[[\"left\",\"satisfaction_level\", \"last_evaluation\", \"average_montly_hours\", \"time_spend_company\", \"Work_accident\", \n",
    "                 \"promotion_last_5years\"]]\n",
    "Df_RHv2 = pd.concat([Df_RHv1, Dumm_sales, Dumm_salary], axis=1, join=\"inner\")\n",
    "Df_RHv2"
   ]
  },
  {
   "cell_type": "code",
   "execution_count": 3,
   "id": "c5f0b1df",
   "metadata": {},
   "outputs": [
    {
     "data": {
      "image/png": "[encoded data removed]",
      "text/plain": [
       "<Figure size 640x480 with 1 Axes>"
      ]
     },
     "metadata": {},
     "output_type": "display_data"
    }
   ],
   "source": [
    "## Graficación y Revisión de los datos \n",
    "ax = Df_RHv2[Df_RHv2[\"left\"] == 1][0:50].plot(kind=\"scatter\", x=\"satisfaction_level\", y=\"time_spend_company\", color=\"DarkBlue\", label=\"Renuncia\")\n",
    "ax = Df_RHv2[Df_RHv2[\"left\"] == 0][0:50].plot(kind=\"scatter\", x=\"satisfaction_level\", y=\"time_spend_company\", color=\"Yellow\", label=\"Se queda\", ax=ax)\n",
    "plt.show()"
   ]
  },
  {
   "cell_type": "markdown",
   "id": "0388ce7a",
   "metadata": {},
   "source": [
    "## 2. Preprocesamiento de datos y selección de grupos"
   ]
  },
  {
   "cell_type": "code",
   "execution_count": 4,
   "id": "607789ac",
   "metadata": {},
   "outputs": [
    {
     "data": {
      "text/plain": [
       "left                       int64\n",
       "satisfaction_level       float64\n",
       "last_evaluation          float64\n",
       "average_montly_hours       int64\n",
       "time_spend_company         int64\n",
       "Work_accident              int64\n",
       "promotion_last_5years      int64\n",
       "IT                         uint8\n",
       "RandD                      uint8\n",
       "accounting                 uint8\n",
       "hr                         uint8\n",
       "management                 uint8\n",
       "marketing                  uint8\n",
       "product_mng                uint8\n",
       "sales                      uint8\n",
       "support                    uint8\n",
       "technical                  uint8\n",
       "high                       uint8\n",
       "low                        uint8\n",
       "medium                     uint8\n",
       "dtype: object"
      ]
     },
     "execution_count": 4,
     "metadata": {},
     "output_type": "execute_result"
    }
   ],
   "source": [
    "Df_RHv2.dtypes\n",
    "Df_RHv2 = Df_RHv2[pd.to_numeric(Df_RHv2[\"IT\"], errors = \"coerce\").notnull()]\n",
    "Df_RHv2 = Df_RHv2[pd.to_numeric(Df_RHv2[\"RandD\"], errors = \"coerce\").notnull()]\n",
    "Df_RHv2 = Df_RHv2[pd.to_numeric(Df_RHv2[\"accounting\"], errors = \"coerce\").notnull()]\n",
    "Df_RHv2 = Df_RHv2[pd.to_numeric(Df_RHv2[\"hr\"], errors = \"coerce\").notnull()]\n",
    "Df_RHv2 = Df_RHv2[pd.to_numeric(Df_RHv2[\"management\"], errors = \"coerce\").notnull()]\n",
    "Df_RHv2 = Df_RHv2[pd.to_numeric(Df_RHv2[\"marketing\"], errors = \"coerce\").notnull()]\n",
    "Df_RHv2 = Df_RHv2[pd.to_numeric(Df_RHv2[\"product_mng\"], errors = \"coerce\").notnull()]\n",
    "Df_RHv2 = Df_RHv2[pd.to_numeric(Df_RHv2[\"sales\"], errors = \"coerce\").notnull()]\n",
    "Df_RHv2 = Df_RHv2[pd.to_numeric(Df_RHv2[\"support\"], errors = \"coerce\").notnull()]\n",
    "Df_RHv2 = Df_RHv2[pd.to_numeric(Df_RHv2[\"technical\"], errors = \"coerce\").notnull()]\n",
    "Df_RHv2 = Df_RHv2[pd.to_numeric(Df_RHv2[\"high\"], errors = \"coerce\").notnull()]\n",
    "Df_RHv2 = Df_RHv2[pd.to_numeric(Df_RHv2[\"low\"], errors = \"coerce\").notnull()]\n",
    "Df_RHv2 = Df_RHv2[pd.to_numeric(Df_RHv2[\"medium\"], errors = \"coerce\").notnull()]\n",
    "\n",
    "Df_RHv2.dtypes"
   ]
  },
  {
   "cell_type": "code",
   "execution_count": null,
   "id": "168e0587",
   "metadata": {},
   "outputs": [],
   "source": []
  },
  {
   "cell_type": "code",
   "execution_count": 5,
   "id": "9af8a84d",
   "metadata": {},
   "outputs": [
    {
     "data": {
      "text/plain": [
       "array([[0.31868132, 0.265625  , 0.28504673, 0.125     , 0.        ,\n",
       "        0.        , 0.        , 0.        , 0.        , 0.        ,\n",
       "        0.        , 0.        , 0.        , 1.        , 0.        ,\n",
       "        0.        , 0.        , 1.        , 0.        ],\n",
       "       [0.78021978, 0.78125   , 0.77570093, 0.5       , 0.        ,\n",
       "        0.        , 0.        , 0.        , 0.        , 0.        ,\n",
       "        0.        , 0.        , 0.        , 1.        , 0.        ,\n",
       "        0.        , 0.        , 0.        , 1.        ],\n",
       "       [0.02197802, 0.8125    , 0.82242991, 0.25      , 0.        ,\n",
       "        0.        , 0.        , 0.        , 0.        , 0.        ,\n",
       "        0.        , 0.        , 0.        , 1.        , 0.        ,\n",
       "        0.        , 0.        , 0.        , 1.        ],\n",
       "       [0.69230769, 0.796875  , 0.59345794, 0.375     , 0.        ,\n",
       "        0.        , 0.        , 0.        , 0.        , 0.        ,\n",
       "        0.        , 0.        , 0.        , 1.        , 0.        ,\n",
       "        0.        , 0.        , 1.        , 0.        ],\n",
       "       [0.30769231, 0.25      , 0.29439252, 0.125     , 0.        ,\n",
       "        0.        , 0.        , 0.        , 0.        , 0.        ,\n",
       "        0.        , 0.        , 0.        , 1.        , 0.        ,\n",
       "        0.        , 0.        , 1.        , 0.        ]])"
      ]
     },
     "execution_count": 5,
     "metadata": {},
     "output_type": "execute_result"
    }
   ],
   "source": [
    "## División de X y Y y normalización\n",
    "\n",
    "feature_RH = Df_RHv2.drop([\"left\"], axis=1)\n",
    "X_norm = (feature_RH - np.min(feature_RH)) / (np.max(feature_RH) - np.min(feature_RH))\n",
    "X = np.asarray(X_norm)\n",
    "X[0:5]"
   ]
  },
  {
   "cell_type": "code",
   "execution_count": 6,
   "id": "2c1fa6e1",
   "metadata": {},
   "outputs": [
    {
     "data": {
      "text/plain": [
       "array([1, 1, 1, 1, 1], dtype=int64)"
      ]
     },
     "execution_count": 6,
     "metadata": {},
     "output_type": "execute_result"
    }
   ],
   "source": [
    "Y = np.asarray(Df_RHv2[\"left\"])\n",
    "Y[0:5]"
   ]
  },
  {
   "cell_type": "code",
   "execution_count": 7,
   "id": "7090e136",
   "metadata": {},
   "outputs": [
    {
     "name": "stdout",
     "output_type": "stream",
     "text": [
      "Grupo de entrenamiento (11999, 19) (11999,)\n",
      "Grupo de prueba (3000, 19) (3000,)\n"
     ]
    }
   ],
   "source": [
    "## Creación de los grupos de entrenamiento y de prueba\n",
    "x_train, x_test, y_train, y_test = train_test_split(X,Y, test_size=0.2, random_state=2)\n",
    "print(\"Grupo de entrenamiento\", x_train.shape, y_train.shape)\n",
    "print(\"Grupo de prueba\", x_test.shape, y_test.shape)"
   ]
  },
  {
   "cell_type": "markdown",
   "id": "ffa697b7",
   "metadata": {},
   "source": [
    "## 3. Modelo de Kernel Lineal"
   ]
  },
  {
   "cell_type": "code",
   "execution_count": 8,
   "id": "b7cbcb2d",
   "metadata": {},
   "outputs": [
    {
     "data": {
      "text/plain": [
       "array([[2125,  142],\n",
       "       [ 529,  204]], dtype=int64)"
      ]
     },
     "execution_count": 8,
     "metadata": {},
     "output_type": "execute_result"
    }
   ],
   "source": [
    "from sklearn import svm\n",
    "from sklearn.metrics import confusion_matrix\n",
    "from sklearn.metrics import classification_report\n",
    "\n",
    "Mod_lin = svm.SVC(kernel=\"linear\")\n",
    "Mod_lin.fit(x_train, y_train)\n",
    "\n",
    "y_hat_lin = Mod_lin.predict(x_test)\n",
    "y_pred_lin = Mod_lin.predict(X)\n",
    "cm_lin = confusion_matrix(y_test, y_hat_lin)\n",
    "cm_lin"
   ]
  },
  {
   "cell_type": "code",
   "execution_count": 9,
   "id": "d861b5bf",
   "metadata": {},
   "outputs": [
    {
     "data": {
      "image/png": "[encoded data removed]",
      "text/plain": [
       "<Figure size 500x500 with 2 Axes>"
      ]
     },
     "metadata": {},
     "output_type": "display_data"
    }
   ],
   "source": [
    "import seaborn as sns\n",
    "f, ax = plt.subplots(figsize = (5,5))\n",
    "\n",
    "sns.heatmap(cm_lin, annot = True, linewidths = 0.5, linecolor = \"red\", fmt = \".0f\", ax = ax)\n",
    "plt.xlabel(\"Y pronosticada\")\n",
    "plt.ylabel(\"Y verdadera\")\n",
    "plt.show()"
   ]
  },
  {
   "cell_type": "code",
   "execution_count": 10,
   "id": "e5484d6d",
   "metadata": {},
   "outputs": [
    {
     "name": "stdout",
     "output_type": "stream",
     "text": [
      "              precision    recall  f1-score   support\n",
      "\n",
      "           0       0.80      0.94      0.86      2267\n",
      "           1       0.59      0.28      0.38       733\n",
      "\n",
      "    accuracy                           0.78      3000\n",
      "   macro avg       0.70      0.61      0.62      3000\n",
      "weighted avg       0.75      0.78      0.75      3000\n",
      "\n"
     ]
    }
   ],
   "source": [
    "cnf_matrix_lin = confusion_matrix(y_test, y_hat_lin, labels=[0,1])\n",
    "print(classification_report(y_test, y_hat_lin))"
   ]
  },
  {
   "cell_type": "markdown",
   "id": "87aa8698",
   "metadata": {},
   "source": [
    "## Interpretación\n",
    "El Modelo Lineal tuvo una alta precisión para la predicción de las personas que se quedan, sin embargo obtuvo una baja calificación en la predicción de los trabajadores que se van (0.59), presentando una accuracy de 0.78, la cual no es buen modelo para tratar de predecir cuando una persona renunciará."
   ]
  },
  {
   "cell_type": "markdown",
   "id": "63c05e2d",
   "metadata": {},
   "source": [
    "## 4. Modelo con kernel Polynomial"
   ]
  },
  {
   "cell_type": "code",
   "execution_count": 11,
   "id": "6c1d5c8b",
   "metadata": {},
   "outputs": [
    {
     "data": {
      "text/plain": [
       "array([[2121,  146],\n",
       "       [ 125,  608]], dtype=int64)"
      ]
     },
     "execution_count": 11,
     "metadata": {},
     "output_type": "execute_result"
    }
   ],
   "source": [
    "Mod_pol = svm.SVC(kernel=\"poly\")\n",
    "Mod_pol.fit(x_train, y_train)\n",
    "\n",
    "y_hat_pol = Mod_pol.predict(x_test)\n",
    "y_pred_pol = Mod_pol.predict(X)\n",
    "cm_pol = confusion_matrix(y_test, y_hat_pol)\n",
    "cm_pol"
   ]
  },
  {
   "cell_type": "code",
   "execution_count": 12,
   "id": "87bc941f",
   "metadata": {},
   "outputs": [
    {
     "data": {
      "image/png": "[encoded data removed]",
      "text/plain": [
       "<Figure size 500x500 with 2 Axes>"
      ]
     },
     "metadata": {},
     "output_type": "display_data"
    }
   ],
   "source": [
    "f, ax = plt.subplots(figsize = (5,5))\n",
    "\n",
    "sns.heatmap(cm_pol, annot = True, linewidths = 0.5, linecolor = \"red\", fmt = \".0f\", ax = ax)\n",
    "plt.xlabel(\"Y pronosticada\")\n",
    "plt.ylabel(\"Y verdadera\")\n",
    "plt.show()"
   ]
  },
  {
   "cell_type": "code",
   "execution_count": 13,
   "id": "08482a69",
   "metadata": {},
   "outputs": [
    {
     "name": "stdout",
     "output_type": "stream",
     "text": [
      "              precision    recall  f1-score   support\n",
      "\n",
      "           0       0.94      0.94      0.94      2267\n",
      "           1       0.81      0.83      0.82       733\n",
      "\n",
      "    accuracy                           0.91      3000\n",
      "   macro avg       0.88      0.88      0.88      3000\n",
      "weighted avg       0.91      0.91      0.91      3000\n",
      "\n"
     ]
    }
   ],
   "source": [
    "cnf_matrix_pol = confusion_matrix(y_test, y_hat_pol, labels=[0,1])\n",
    "print(classification_report(y_test, y_hat_pol))"
   ]
  },
  {
   "cell_type": "markdown",
   "id": "1ad7c4e1",
   "metadata": {},
   "source": [
    "## Interpretación\n",
    "El modelo Polinomial obtuvo un f1 score de 0.94 para predecir los trabajadores que se quedan, así como un 0.82 para la predicción de los trabajadores que renunciaron, siendo ambos muy altos indicadores y haciendo que el nivel de precisión de este modelo sea muy bueno. "
   ]
  },
  {
   "cell_type": "markdown",
   "id": "d4597e85",
   "metadata": {},
   "source": [
    "## 5. Modelo con kernel RFB"
   ]
  },
  {
   "cell_type": "code",
   "execution_count": 14,
   "id": "6296ca34",
   "metadata": {},
   "outputs": [
    {
     "data": {
      "text/plain": [
       "array([[2114,  153],\n",
       "       [ 134,  599]], dtype=int64)"
      ]
     },
     "execution_count": 14,
     "metadata": {},
     "output_type": "execute_result"
    }
   ],
   "source": [
    "Mod_RFB = svm.SVC(kernel=\"rbf\")\n",
    "Mod_RFB.fit(x_train, y_train)\n",
    "\n",
    "y_hat_RFB = Mod_RFB.predict(x_test)\n",
    "y_pred_RFB = Mod_RFB.predict(X)\n",
    "cm_RFB = confusion_matrix(y_test, y_hat_RFB)\n",
    "cm_RFB"
   ]
  },
  {
   "cell_type": "code",
   "execution_count": 15,
   "id": "cb56a8f7",
   "metadata": {},
   "outputs": [
    {
     "data": {
      "image/png": "[encoded data removed]",
      "text/plain": [
       "<Figure size 500x500 with 2 Axes>"
      ]
     },
     "metadata": {},
     "output_type": "display_data"
    }
   ],
   "source": [
    "f, ax = plt.subplots(figsize = (5,5))\n",
    "\n",
    "sns.heatmap(cm_RFB, annot = True, linewidths = 0.5, linecolor = \"red\", fmt = \".0f\", ax = ax)\n",
    "plt.xlabel(\"Y pronosticada\")\n",
    "plt.ylabel(\"Y verdadera\")\n",
    "plt.show()"
   ]
  },
  {
   "cell_type": "code",
   "execution_count": 16,
   "id": "729fafe0",
   "metadata": {},
   "outputs": [
    {
     "name": "stdout",
     "output_type": "stream",
     "text": [
      "              precision    recall  f1-score   support\n",
      "\n",
      "           0       0.94      0.93      0.94      2267\n",
      "           1       0.80      0.82      0.81       733\n",
      "\n",
      "    accuracy                           0.90      3000\n",
      "   macro avg       0.87      0.87      0.87      3000\n",
      "weighted avg       0.91      0.90      0.90      3000\n",
      "\n"
     ]
    }
   ],
   "source": [
    "cnf_matrix_RFB = confusion_matrix(y_test, y_hat_RFB, labels=[0,1])\n",
    "print(classification_report(y_test, y_hat_RFB))"
   ]
  },
  {
   "cell_type": "markdown",
   "id": "89ab37d5",
   "metadata": {},
   "source": [
    "## Interpretación\n",
    "El Modelo RFB también obtuvo calificaciones sobresalientes tanto para la predicción de renuncias como para los trabajadores que se quedaron, siendo un poco más bajas que el modelo Polinomial pero dentro del rango de lo sobresaliente."
   ]
  },
  {
   "cell_type": "markdown",
   "id": "f973274b",
   "metadata": {},
   "source": [
    "# Modelo de Kernel Sigmoide"
   ]
  },
  {
   "cell_type": "code",
   "execution_count": 17,
   "id": "07438fd3",
   "metadata": {},
   "outputs": [
    {
     "data": {
      "text/plain": [
       "array([[1805,  462],\n",
       "       [ 467,  266]], dtype=int64)"
      ]
     },
     "execution_count": 17,
     "metadata": {},
     "output_type": "execute_result"
    }
   ],
   "source": [
    "Mod_Sig = svm.SVC(kernel=\"sigmoid\")\n",
    "Mod_Sig.fit(x_train, y_train)\n",
    "\n",
    "y_hat_Sig = Mod_Sig.predict(x_test)\n",
    "y_pred_Sig = Mod_Sig.predict(X)\n",
    "cm_Sig = confusion_matrix(y_test, y_hat_Sig)\n",
    "cm_Sig"
   ]
  },
  {
   "cell_type": "code",
   "execution_count": 18,
   "id": "f67cea36",
   "metadata": {},
   "outputs": [
    {
     "data": {
      "image/png": "[encoded data removed]",
      "text/plain": [
       "<Figure size 500x500 with 2 Axes>"
      ]
     },
     "metadata": {},
     "output_type": "display_data"
    }
   ],
   "source": [
    "f, ax = plt.subplots(figsize = (5,5))\n",
    "\n",
    "sns.heatmap(cm_Sig, annot = True, linewidths = 0.5, linecolor = \"red\", fmt = \".0f\", ax = ax)\n",
    "plt.xlabel(\"Y pronosticada\")\n",
    "plt.ylabel(\"Y verdadera\")\n",
    "plt.show()"
   ]
  },
  {
   "cell_type": "code",
   "execution_count": 19,
   "id": "327dd83c",
   "metadata": {},
   "outputs": [
    {
     "name": "stdout",
     "output_type": "stream",
     "text": [
      "              precision    recall  f1-score   support\n",
      "\n",
      "           0       0.79      0.80      0.80      2267\n",
      "           1       0.37      0.36      0.36       733\n",
      "\n",
      "    accuracy                           0.69      3000\n",
      "   macro avg       0.58      0.58      0.58      3000\n",
      "weighted avg       0.69      0.69      0.69      3000\n",
      "\n"
     ]
    }
   ],
   "source": [
    "cnf_matrix = confusion_matrix(y_test, y_hat_Sig, labels=[0,1])\n",
    "print(classification_report(y_test, y_hat_Sig))"
   ]
  },
  {
   "cell_type": "markdown",
   "id": "7ebcd2ae",
   "metadata": {},
   "source": [
    "## Interpretación\n",
    "El modelo Sigmoide presenta mejores resultados para predecir los trabajadores que renunciarán, pero su capacidad de predecir las renuncias se queda muy corta a comparación de los Modelos Polinomial y RFB."
   ]
  },
  {
   "cell_type": "code",
   "execution_count": 20,
   "id": "d37d747b",
   "metadata": {},
   "outputs": [
    {
     "name": "stdout",
     "output_type": "stream",
     "text": [
      "Resultados del Modelo de Kernel Lineal\n",
      "              precision    recall  f1-score   support\n",
      "\n",
      "           0       0.80      0.94      0.86      2267\n",
      "           1       0.59      0.28      0.38       733\n",
      "\n",
      "    accuracy                           0.78      3000\n",
      "   macro avg       0.70      0.61      0.62      3000\n",
      "weighted avg       0.75      0.78      0.75      3000\n",
      "\n",
      "Resultados del Modelo de Kernel Polinomial\n",
      "              precision    recall  f1-score   support\n",
      "\n",
      "           0       0.94      0.94      0.94      2267\n",
      "           1       0.81      0.83      0.82       733\n",
      "\n",
      "    accuracy                           0.91      3000\n",
      "   macro avg       0.88      0.88      0.88      3000\n",
      "weighted avg       0.91      0.91      0.91      3000\n",
      "\n",
      "Resultados del Modelo de Kernel RFB\n",
      "              precision    recall  f1-score   support\n",
      "\n",
      "           0       0.94      0.93      0.94      2267\n",
      "           1       0.80      0.82      0.81       733\n",
      "\n",
      "    accuracy                           0.90      3000\n",
      "   macro avg       0.87      0.87      0.87      3000\n",
      "weighted avg       0.91      0.90      0.90      3000\n",
      "\n",
      "Resultados del Modelo de Kernel Sigmoide\n",
      "              precision    recall  f1-score   support\n",
      "\n",
      "           0       0.79      0.80      0.80      2267\n",
      "           1       0.37      0.36      0.36       733\n",
      "\n",
      "    accuracy                           0.69      3000\n",
      "   macro avg       0.58      0.58      0.58      3000\n",
      "weighted avg       0.69      0.69      0.69      3000\n",
      "\n"
     ]
    }
   ],
   "source": [
    "## Impresión de los 4 reportes de los modelos utilizados\n",
    "\n",
    "print(\"Resultados del Modelo de Kernel Lineal\")\n",
    "print(classification_report(y_test, y_hat_lin))\n",
    "print(\"Resultados del Modelo de Kernel Polinomial\")\n",
    "print(classification_report(y_test, y_hat_pol))\n",
    "print(\"Resultados del Modelo de Kernel RFB\")\n",
    "print(classification_report(y_test, y_hat_RFB))\n",
    "print(\"Resultados del Modelo de Kernel Sigmoide\")\n",
    "print(classification_report(y_test, y_hat_Sig))"
   ]
  },
  {
   "cell_type": "markdown",
   "id": "976090b0",
   "metadata": {},
   "source": [
    "## Conclusión\n",
    "Viendo el desempeño de los diversos modelos de maquinas de soporte vectorial, el que presentó los mejores resultados a la hora de predecir fue el modelo Polinomial, ya que obtuvo la mayor cantidad de puntuaciones en todas las evaluaciones, seguido por el modelo RFB, los cuales son excelentes para determinar el momento en el que un trabajador es más o menos propenso a renunciar.\n",
    "\n",
    "En contraste, tanto el modelo lineal como el modelo Sigmoide tuvieron muy bajas puntuaciones a la hora de predecir las renuncias, por lo que no son confiables para este caso en particular."
   ]
  },
  {
   "cell_type": "code",
   "execution_count": 21,
   "id": "0580b7e1",
   "metadata": {},
   "outputs": [
    {
     "data": {
      "text/plain": [
       "array([1, 1, 1], dtype=int64)"
      ]
     },
     "execution_count": 21,
     "metadata": {},
     "output_type": "execute_result"
    }
   ],
   "source": [
    "## Resultados para predecir la acción de un empleado\n",
    "\n",
    "                        ### Primera línea = ejemplo del trabajador\n",
    "punt_trab = np.array([[0.5, 0.75, 200, 4, 0, 0, 0, 0, 0, 0, 0, 0, 0, 1, 0, 0, 0, 0, 1],\n",
    "                      [0.8, 0.46, 245, 6, 1, 1, 0, 0, 1, 0, 0, 0, 0, 0, 0, 0, 1, 0, 0],\n",
    "                      [0.66, 0.59, 180, 2, 1, 0, 0, 0, 0, 0, 0, 1, 0, 0, 0, 0, 0, 1, 0]])\n",
    "\n",
    "\n",
    "Mod_pol_ej = svm.SVC(kernel=\"poly\")\n",
    "Mod_pol_ej.fit(x_train, y_train)\n",
    "\n",
    "y_hat_ej = Mod_lin.predict(punt_trab)\n",
    "y_hat_ej"
   ]
  },
  {
   "cell_type": "markdown",
   "id": "ceb154c9",
   "metadata": {},
   "source": [
    "## Interpretación\n",
    "Para el ejemplo de la puntuación del trabajador se hizo la predicción utilizando el modelo que mostró mayor puntuación (Polinomial) y salió como resultado 1, es decir, que el trabajador renunciará."
   ]
  }
 ],
 "metadata": {
  "kernelspec": {
   "display_name": "Python 3 (ipykernel)",
   "language": "python",
   "name": "python3"
  },
  "language_info": {
   "codemirror_mode": {
    "name": "ipython",
    "version": 3
   },
   "file_extension": ".py",
   "mimetype": "text/x-python",
   "name": "python",
   "nbconvert_exporter": "python",
   "pygments_lexer": "ipython3",
   "version": "3.11.3"
  }
 },
 "nbformat": 4,
 "nbformat_minor": 5
}
